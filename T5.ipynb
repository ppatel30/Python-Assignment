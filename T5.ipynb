{
 "cells": [
  {
   "cell_type": "markdown",
   "metadata": {},
   "source": [
    "1. Write a program in Python to allow the error of syntax to be handled using exception handling.\n",
    "HINT: Use SyntaxError\n"
   ]
  },
  {
   "cell_type": "code",
   "execution_count": null,
   "metadata": {},
   "outputs": [],
   "source": [
    "print('''Ans of Q1\n",
    "#####################################################################################''')\n",
    "try:\n",
    "    x = eval('print(\"hello Word\"')\n",
    "except SyntaxError as e:\n",
    "    print(e)\n"
   ]
  },
  {
   "cell_type": "markdown",
   "metadata": {},
   "source": [
    "\n",
    "2. Write a program in Python to allow the user to open a file by using the argv module. If the entered name is incorrect throw an exception and ask them to enter the name again. Make sure to use read only mode.\n"
   ]
  },
  {
   "cell_type": "code",
   "execution_count": null,
   "metadata": {},
   "outputs": [],
   "source": [
    "import sys\n",
    "\n",
    "print(\"\")\n",
    "print('''Ans of Q2\n",
    "#####################################################################################''')\n",
    "try:\n",
    "    f = open(f'{sys.argv[1]}',\"r\")\n",
    "    text = f.read()\n",
    "    print(\"File has been read successfully\")\n",
    "    f.close()\n",
    "except:\n",
    "    print(\"Enter the correct file name, open again\")\n"
   ]
  },
  {
   "cell_type": "markdown",
   "metadata": {},
   "source": [
    "\n",
    "3. Write a program to handle an error if the user entered a number more than four digits it should return “The length is too short/long !!! Please provide only four digits”\n"
   ]
  },
  {
   "cell_type": "code",
   "execution_count": null,
   "metadata": {},
   "outputs": [],
   "source": [
    "\n",
    "print(\"\")\n",
    "print('''Ans of Q3\n",
    "#####################################################################################''')\n",
    "\n",
    "try:\n",
    "    a = input(\"Enter the number: \")\n",
    "    b = int(a)\n",
    "except ValueError as e:\n",
    "    print(\"Enter the number only\")\n",
    "else:\n",
    "    if len(a) > 4:\n",
    "        print(\"The length is too short/long !!! Please provide only four digits\")\n"
   ]
  },
  {
   "cell_type": "markdown",
   "metadata": {},
   "source": [
    "4. Create a login page backend to ask users to enter the username and password. Make sure to\n",
    "ask for a Re-Type Password and if the password is incorrect give chance to enter it again but it should not be more than 3 times."
   ]
  },
  {
   "cell_type": "code",
   "execution_count": null,
   "metadata": {},
   "outputs": [],
   "source": [
    "print(\"\")\n",
    "print('''Ans of Q4\n",
    "#####################################################################################''')\n",
    "\n",
    "LoginInfo = {\n",
    "    'Parth':'Parth1234',\n",
    "    'Sagar':'Sagar1234',\n",
    "    'Maitri':'Maitri1234',\n",
    "    'Mansi':'Mansi1234'\n",
    "}\n",
    "count = 0\n",
    "while (count < 3):\n",
    "    try:\n",
    "        userName = input(\"Enter the User name: \")\n",
    "        pass1 = input(\"Enter the Password: \")\n",
    "        pass2 = input(\"Re-Type the your Password: \")\n",
    "\n",
    "        if(pass1 == pass2):\n",
    "            if (LoginInfo.get(userName) == pass1):\n",
    "                print(\"Login Successful\")\n",
    "                break\n",
    "            else:\n",
    "                print(\"User name password incorrect\")\n",
    "        else:\n",
    "            print(\"Both Password is not matched\")\n",
    "        count += 1\n",
    "        if (count == 3):\n",
    "            print(\"You have reached maximum attempt\")\n",
    "    except KeyError:\n",
    "        print(\"User name is not exist\")\n"
   ]
  },
  {
   "cell_type": "markdown",
   "metadata": {},
   "source": [
    "6. Read doc.txt file using Python File handling concept and return only the even length string from the file. Consider the content of doc.txt as given below:\n",
    "\n",
    "Hello I am a file\n",
    "\n",
    "Where you need to return the data string\n",
    "\n",
    "Which is of even length\n",
    "\n",
    "Make sure you return the content in The same link as it is present.\n"
   ]
  },
  {
   "cell_type": "code",
   "execution_count": 1,
   "metadata": {},
   "outputs": [
    {
     "name": "stdout",
     "output_type": "stream",
     "text": [
      "\n",
      "Ans of Q6\n",
      "#####################################################################################\n",
      "Where you need to return the data string\n",
      "Make sure you return the content in The same link as it is present\n"
     ]
    }
   ],
   "source": [
    "print(\"\")\n",
    "print('''Ans of Q6\n",
    "#####################################################################################''')\n",
    "\n",
    "with open('doc.txt','r') as f:\n",
    "    lineText = f.readlines()\n",
    "for i in lineText:\n",
    "    if ((len(i)-1)%2 == 0): #removed last '/n' character from lenghth\n",
    "        print(i[:-1]) #removed last '/n' character\n",
    "        "
   ]
  }
 ],
 "metadata": {
  "kernelspec": {
   "display_name": "Python 3.9.12 ('base')",
   "language": "python",
   "name": "python3"
  },
  "language_info": {
   "codemirror_mode": {
    "name": "ipython",
    "version": 3
   },
   "file_extension": ".py",
   "mimetype": "text/x-python",
   "name": "python",
   "nbconvert_exporter": "python",
   "pygments_lexer": "ipython3",
   "version": "3.9.12"
  },
  "orig_nbformat": 4,
  "vscode": {
   "interpreter": {
    "hash": "9d7145ac079ffe9d15656a1e08230b2cbcf4be7a60af871e5b934c424fa38166"
   }
  }
 },
 "nbformat": 4,
 "nbformat_minor": 2
}
