{
 "cells": [
  {
   "cell_type": "markdown",
   "metadata": {},
   "source": [
    "1. Create a list of 10 elements of four different data types like int, string, complex and float."
   ]
  },
  {
   "cell_type": "code",
   "execution_count": null,
   "metadata": {},
   "outputs": [],
   "source": [
    "\n",
    "x = [1 , 2.5, True, 5+6j, None, \"Consultadd\", (0,1), \"25\", 17, {'age':25}] \n",
    "\n",
    "for i in x:\n",
    "    print(i, type(i))\n"
   ]
  },
  {
   "cell_type": "markdown",
   "metadata": {},
   "source": [
    "\n",
    "2. Create a list of size 5 and execute the slicing structure"
   ]
  },
  {
   "cell_type": "code",
   "execution_count": null,
   "metadata": {},
   "outputs": [],
   "source": [
    "\n",
    "x = ['Parth','Amit','Jeet','Parvinder','Ivan']\n",
    "print(x[1:2])\n",
    "print(x[:5])\n",
    "print(x[2:])\n",
    "print(x[-2:-4:-1])\n",
    "print(x[-1::-2])\n",
    "print(x[::-1])\n"
   ]
  },
  {
   "cell_type": "code",
   "execution_count": null,
   "metadata": {},
   "outputs": [],
   "source": [
    "3. Write a program to get the sum and multiply of all the items in a given list."
   ]
  },
  {
   "cell_type": "code",
   "execution_count": null,
   "metadata": {},
   "outputs": [],
   "source": [
    "\n",
    "#list of even number\n",
    "from math import prod\n",
    "\n",
    "x = [i for i in range(1,21) if i%2 == 0]\n",
    "# sum of all item using loop\n",
    "a = 0\n",
    "for i in x:\n",
    "    a = a+i\n",
    "print(a)\n",
    "# sum of all item using function\n",
    "print(sum(x))\n",
    "\n",
    "# Multiplication of all item using loop\n",
    "a = 1\n",
    "for i in x:\n",
    "    a = a * i\n",
    "print(a)\n",
    "\n",
    "# Multiplication of all item using function\n",
    "print(prod(x))\n"
   ]
  },
  {
   "cell_type": "markdown",
   "metadata": {},
   "source": [
    "\n",
    "'''\n",
    "4. Find the largest and smallest number from a given list.\n",
    "'''\n"
   ]
  },
  {
   "cell_type": "code",
   "execution_count": null,
   "metadata": {},
   "outputs": [],
   "source": [
    "# using loops - MAx value\n",
    "mx = x[0]\n",
    "for i in x:\n",
    "    if (i > mx):\n",
    "        mx = i\n",
    "print(mx)\n",
    "# using function - Max value\n",
    "print(max(x))\n",
    "\n",
    "# using loops - Min value\n",
    "mn = x[0]\n",
    "for i in x:\n",
    "    if (i < mn):\n",
    "        mn = i\n",
    "print(mn)\n",
    "# using function - min value\n",
    "print(min(x))\n"
   ]
  },
  {
   "cell_type": "markdown",
   "metadata": {},
   "source": [
    "\n",
    "'''\n",
    "5. Create a new list which contains the specified numbers after removing the even numbers from a predefined list.\n",
    "'''\n"
   ]
  },
  {
   "cell_type": "code",
   "execution_count": null,
   "metadata": {},
   "outputs": [],
   "source": [
    "x = [i for i in range(1,100)]\n",
    "\n",
    "desiredList = []\n",
    "for i in x:\n",
    "    if (i%2 == 0):\n",
    "        continue\n",
    "    desiredList.append(i)\n",
    "print(desiredList)\n"
   ]
  },
  {
   "cell_type": "markdown",
   "metadata": {},
   "source": [
    "\n",
    "'''\n",
    "6. Create a list of elements such that it contains the squares of the first and last 5 elements between 1 and30 (both included).\n",
    "'''\n"
   ]
  },
  {
   "cell_type": "code",
   "execution_count": null,
   "metadata": {},
   "outputs": [],
   "source": [
    "myList = []\n",
    "for i in range(1,31):\n",
    "    if (i <= 5 or i >=26):\n",
    "        myList.append(i ** 2)\n",
    "    else:\n",
    "        myList.append(i)\n",
    "print(myList)\n"
   ]
  },
  {
   "cell_type": "markdown",
   "metadata": {},
   "source": [
    "\n",
    "'''\n",
    "7. Write a program to replace the last element in a list with another list.\n",
    "Sample input: [1,3,5,7,9,10], [2,4,6,8]\n",
    "Expected output: [1,3,5,7,9,2,4,6,8]\n",
    "'''\n"
   ]
  },
  {
   "cell_type": "markdown",
   "metadata": {},
   "source": [
    "x = [1,3,5,7,9,10]\n",
    "y = [2,4,6,8]\n",
    "\n",
    "x.pop()\n",
    "x.extend(y)\n",
    "print(x)"
   ]
  },
  {
   "cell_type": "markdown",
   "metadata": {},
   "source": [
    "\n",
    "'''\n",
    "8. Create a new dictionary by concatenating the following two dictionaries:\n",
    "Sample input: a={1:10,2:20} b={3:30,4:40}\n",
    "Expected output: {1:10,2:20,3:30,4:40}\n",
    "'''\n"
   ]
  },
  {
   "cell_type": "code",
   "execution_count": null,
   "metadata": {},
   "outputs": [],
   "source": [
    "a={1:10,2:20}\n",
    "b={3:30,4:40}\n",
    "\n",
    "a.update(b)\n",
    "print(a)"
   ]
  },
  {
   "cell_type": "markdown",
   "metadata": {},
   "source": [
    "\n",
    "'''\n",
    "9. Create a dictionary that contain numbers in the form(x:x*x) where x takes all the values between 1 and n(both 1 and n included).\n",
    "Sample input: n=5\n",
    "Expected output: {1:1, 2:4, 3:9, 4:16, 5:25}\n",
    "'''\n"
   ]
  },
  {
   "cell_type": "code",
   "execution_count": null,
   "metadata": {},
   "outputs": [],
   "source": [
    "n = int(input(\"Enter the size of dict with square value, n= \" ))\n",
    "sq = dict()\n",
    "for i in range(1,n+1):\n",
    "    sq.update({i:(i ** 2)})\n",
    "print(sq)"
   ]
  },
  {
   "cell_type": "markdown",
   "metadata": {},
   "source": [
    "\n",
    "'''\n",
    "10. Write a program which accepts a sequence of comma-separated numbers from console and\n",
    "generates a list and a tuple which contains every number in the form of string.\n",
    "Sample input: 34,67,55,33,12,98\n",
    "Expected output: [‘34’,’67’,’55’,’33’,’12’,’98’] (‘34’,’67’,’55’,’33’,’12’,’98’)\n",
    "'''"
   ]
  },
  {
   "cell_type": "code",
   "execution_count": 1,
   "metadata": {},
   "outputs": [
    {
     "name": "stdout",
     "output_type": "stream",
     "text": [
      "['10', '20', '30']\n",
      "('10', '20', '30')\n"
     ]
    }
   ],
   "source": [
    "\n",
    "inStr = input(\"Enter the comma-seprated numbers: \")\n",
    "myList = inStr.split(',')\n",
    "print(myList)\n",
    "myTuple = tuple(myList)\n",
    "print(myTuple)"
   ]
  }
 ],
 "metadata": {
  "kernelspec": {
   "display_name": "Python 3.9.12 ('base')",
   "language": "python",
   "name": "python3"
  },
  "language_info": {
   "codemirror_mode": {
    "name": "ipython",
    "version": 3
   },
   "file_extension": ".py",
   "mimetype": "text/x-python",
   "name": "python",
   "nbconvert_exporter": "python",
   "pygments_lexer": "ipython3",
   "version": "3.9.12"
  },
  "orig_nbformat": 4,
  "vscode": {
   "interpreter": {
    "hash": "9d7145ac079ffe9d15656a1e08230b2cbcf4be7a60af871e5b934c424fa38166"
   }
  }
 },
 "nbformat": 4,
 "nbformat_minor": 2
}
