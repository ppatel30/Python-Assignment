{
 "cells": [
  {
   "cell_type": "markdown",
   "metadata": {},
   "source": [
    "1. Create a list of given structure and get the Access list as provided below:\n",
    "\n",
    "x=[100,200,300,400,500,[1,2,3,4,5,[10,20,30,40,50],6,7,8,9],600,700,800]\n",
    "\n",
    "Access list: [1, 2, 3, 4]\n",
    "\n",
    "Access list: [600, 700]\n",
    "\n",
    "Access list: [100, 300, 500, 600, 800]\n",
    "\n",
    "Access list: [[800, 700, 600, [1, 2, 3, 4, 5, [10, 20, 30, 40, 50], 6, 7, 8, 9], 500, 400, 300, 200, 100]]\n",
    "\n",
    "Access list: [10]\n",
    "\n",
    "Access list: [ ]"
   ]
  },
  {
   "cell_type": "code",
   "execution_count": 1,
   "metadata": {},
   "outputs": [
    {
     "name": "stdout",
     "output_type": "stream",
     "text": [
      "[1, 2, 3, 4]\n",
      "[600, 700]\n",
      "[100, 300, 500, 600, 800]\n",
      "[[800, 700, 600, [1, 2, 3, 4, 5, [10, 20, 30, 40, 50], 6, 7, 8, 9], 500, 400, 300, 200, 100]]\n",
      "[10]\n",
      "[]\n"
     ]
    }
   ],
   "source": [
    "\n",
    "x = [100,200,300,400,500,[1,2,3,4,5,[10,20,30,40,50],6,7,8,9],600,700,800]\n",
    "AccessList1 = x[5][0:4]\n",
    "print(AccessList1)\n",
    "AccessList2 = x[-3:-1]\n",
    "print(AccessList2)\n",
    "AccessList3 = [i for i in x[::2]] \n",
    "print(AccessList3)\n",
    "AccessList4 = [x[::-1]] \n",
    "print(AccessList4)\n",
    "AccessList5 = [x[5][5][0]]\n",
    "print(AccessList5)\n",
    "x.clear()\n",
    "print(x)\n"
   ]
  },
  {
   "cell_type": "markdown",
   "metadata": {},
   "source": [
    "2. Create a list of thousand numbers using range and xrange and see the difference between each\n",
    "other.\n",
    "\n",
    "(For reference:https://www.techbeamers.com/python-xrange-range/)"
   ]
  },
  {
   "cell_type": "code",
   "execution_count": 25,
   "metadata": {},
   "outputs": [
    {
     "name": "stdout",
     "output_type": "stream",
     "text": [
      "<class 'range'>\n",
      "[1, 2, 3, 4, 5, 6, 7, 8, 9, 10, 11, 12, 13, 14, 15, 16, 17, 18, 19, 20, 21, 22, 23, 24, 25, 26, 27, 28, 29, 30, 31, 32, 33, 34, 35, 36, 37, 38, 39, 40, 41, 42, 43, 44, 45, 46, 47, 48, 49, 50, 51, 52, 53, 54, 55, 56, 57, 58, 59, 60, 61, 62, 63, 64, 65, 66, 67, 68, 69, 70, 71, 72, 73, 74, 75, 76, 77, 78, 79, 80, 81, 82, 83, 84, 85, 86, 87, 88, 89, 90, 91, 92, 93, 94, 95, 96, 97, 98, 99, 100, 101, 102, 103, 104, 105, 106, 107, 108, 109, 110, 111, 112, 113, 114, 115, 116, 117, 118, 119, 120, 121, 122, 123, 124, 125, 126, 127, 128, 129, 130, 131, 132, 133, 134, 135, 136, 137, 138, 139, 140, 141, 142, 143, 144, 145, 146, 147, 148, 149, 150, 151, 152, 153, 154, 155, 156, 157, 158, 159, 160, 161, 162, 163, 164, 165, 166, 167, 168, 169, 170, 171, 172, 173, 174, 175, 176, 177, 178, 179, 180, 181, 182, 183, 184, 185, 186, 187, 188, 189, 190, 191, 192, 193, 194, 195, 196, 197, 198, 199, 200, 201, 202, 203, 204, 205, 206, 207, 208, 209, 210, 211, 212, 213, 214, 215, 216, 217, 218, 219, 220, 221, 222, 223, 224, 225, 226, 227, 228, 229, 230, 231, 232, 233, 234, 235, 236, 237, 238, 239, 240, 241, 242, 243, 244, 245, 246, 247, 248, 249, 250, 251, 252, 253, 254, 255, 256, 257, 258, 259, 260, 261, 262, 263, 264, 265, 266, 267, 268, 269, 270, 271, 272, 273, 274, 275, 276, 277, 278, 279, 280, 281, 282, 283, 284, 285, 286, 287, 288, 289, 290, 291, 292, 293, 294, 295, 296, 297, 298, 299, 300, 301, 302, 303, 304, 305, 306, 307, 308, 309, 310, 311, 312, 313, 314, 315, 316, 317, 318, 319, 320, 321, 322, 323, 324, 325, 326, 327, 328, 329, 330, 331, 332, 333, 334, 335, 336, 337, 338, 339, 340, 341, 342, 343, 344, 345, 346, 347, 348, 349, 350, 351, 352, 353, 354, 355, 356, 357, 358, 359, 360, 361, 362, 363, 364, 365, 366, 367, 368, 369, 370, 371, 372, 373, 374, 375, 376, 377, 378, 379, 380, 381, 382, 383, 384, 385, 386, 387, 388, 389, 390, 391, 392, 393, 394, 395, 396, 397, 398, 399, 400, 401, 402, 403, 404, 405, 406, 407, 408, 409, 410, 411, 412, 413, 414, 415, 416, 417, 418, 419, 420, 421, 422, 423, 424, 425, 426, 427, 428, 429, 430, 431, 432, 433, 434, 435, 436, 437, 438, 439, 440, 441, 442, 443, 444, 445, 446, 447, 448, 449, 450, 451, 452, 453, 454, 455, 456, 457, 458, 459, 460, 461, 462, 463, 464, 465, 466, 467, 468, 469, 470, 471, 472, 473, 474, 475, 476, 477, 478, 479, 480, 481, 482, 483, 484, 485, 486, 487, 488, 489, 490, 491, 492, 493, 494, 495, 496, 497, 498, 499, 500, 501, 502, 503, 504, 505, 506, 507, 508, 509, 510, 511, 512, 513, 514, 515, 516, 517, 518, 519, 520, 521, 522, 523, 524, 525, 526, 527, 528, 529, 530, 531, 532, 533, 534, 535, 536, 537, 538, 539, 540, 541, 542, 543, 544, 545, 546, 547, 548, 549, 550, 551, 552, 553, 554, 555, 556, 557, 558, 559, 560, 561, 562, 563, 564, 565, 566, 567, 568, 569, 570, 571, 572, 573, 574, 575, 576, 577, 578, 579, 580, 581, 582, 583, 584, 585, 586, 587, 588, 589, 590, 591, 592, 593, 594, 595, 596, 597, 598, 599, 600, 601, 602, 603, 604, 605, 606, 607, 608, 609, 610, 611, 612, 613, 614, 615, 616, 617, 618, 619, 620, 621, 622, 623, 624, 625, 626, 627, 628, 629, 630, 631, 632, 633, 634, 635, 636, 637, 638, 639, 640, 641, 642, 643, 644, 645, 646, 647, 648, 649, 650, 651, 652, 653, 654, 655, 656, 657, 658, 659, 660, 661, 662, 663, 664, 665, 666, 667, 668, 669, 670, 671, 672, 673, 674, 675, 676, 677, 678, 679, 680, 681, 682, 683, 684, 685, 686, 687, 688, 689, 690, 691, 692, 693, 694, 695, 696, 697, 698, 699, 700, 701, 702, 703, 704, 705, 706, 707, 708, 709, 710, 711, 712, 713, 714, 715, 716, 717, 718, 719, 720, 721, 722, 723, 724, 725, 726, 727, 728, 729, 730, 731, 732, 733, 734, 735, 736, 737, 738, 739, 740, 741, 742, 743, 744, 745, 746, 747, 748, 749, 750, 751, 752, 753, 754, 755, 756, 757, 758, 759, 760, 761, 762, 763, 764, 765, 766, 767, 768, 769, 770, 771, 772, 773, 774, 775, 776, 777, 778, 779, 780, 781, 782, 783, 784, 785, 786, 787, 788, 789, 790, 791, 792, 793, 794, 795, 796, 797, 798, 799, 800, 801, 802, 803, 804, 805, 806, 807, 808, 809, 810, 811, 812, 813, 814, 815, 816, 817, 818, 819, 820, 821, 822, 823, 824, 825, 826, 827, 828, 829, 830, 831, 832, 833, 834, 835, 836, 837, 838, 839, 840, 841, 842, 843, 844, 845, 846, 847, 848, 849, 850, 851, 852, 853, 854, 855, 856, 857, 858, 859, 860, 861, 862, 863, 864, 865, 866, 867, 868, 869, 870, 871, 872, 873, 874, 875, 876, 877, 878, 879, 880, 881, 882, 883, 884, 885, 886, 887, 888, 889, 890, 891, 892, 893, 894, 895, 896, 897, 898, 899, 900, 901, 902, 903, 904, 905, 906, 907, 908, 909, 910, 911, 912, 913, 914, 915, 916, 917, 918, 919, 920, 921, 922, 923, 924, 925, 926, 927, 928, 929, 930, 931, 932, 933, 934, 935, 936, 937, 938, 939, 940, 941, 942, 943, 944, 945, 946, 947, 948, 949, 950, 951, 952, 953, 954, 955, 956, 957, 958, 959, 960, 961, 962, 963, 964, 965, 966, 967, 968, 969, 970, 971, 972, 973, 974, 975, 976, 977, 978, 979, 980, 981, 982, 983, 984, 985, 986, 987, 988, 989, 990, 991, 992, 993, 994, 995, 996, 997, 998, 999, 1000]\n"
     ]
    }
   ],
   "source": [
    "x = range(1,1000)\n",
    "print(type(x))\n",
    "\n",
    "x = [i for i in range(1,1001)]\n",
    "print(x)\n",
    "\n",
    "\n",
    "################################\n",
    "# Python 2.0 has two different options as range and xrange\n",
    "# range is create a list of numbers whereas xrange is create a object as xrange\n",
    "# xrange is faster than range for long lists of range numbers\n",
    "\n",
    "#################################\n",
    "# In python 3.x has only one range function. xrange function renamed to range in python 3.x.\n",
    "#################################\n"
   ]
  },
  {
   "cell_type": "markdown",
   "metadata": {},
   "source": [
    "3. How Tuple is beneficial as compared to the list?"
   ]
  },
  {
   "cell_type": "markdown",
   "metadata": {},
   "source": [
    "Ans: Tuple execution is faster than list in comparison of long numbers of range."
   ]
  },
  {
   "cell_type": "code",
   "execution_count": 2,
   "metadata": {},
   "outputs": [
    {
     "name": "stdout",
     "output_type": "stream",
     "text": [
      "execution time:  0.1426849365234375\n",
      "execution time:  0.02098703384399414\n"
     ]
    }
   ],
   "source": [
    "import time\n",
    "x = time.time()\n",
    "list = [i for i in range(1000000)]\n",
    "y = time.time()\n",
    "print(\"execution time: \", y-x)\n",
    "\n",
    "x = time.time()\n",
    "list = (i for i in range(1000000))\n",
    "y = time.time()\n",
    "print(\"execution time: \", y-x)"
   ]
  },
  {
   "cell_type": "markdown",
   "metadata": {},
   "source": [
    "4. Write a program in Python to iterate through the list of numbers in the range of 1,100 and print the number which is divisible by 3 and is a multiple of 2."
   ]
  },
  {
   "cell_type": "code",
   "execution_count": 3,
   "metadata": {},
   "outputs": [
    {
     "name": "stdout",
     "output_type": "stream",
     "text": [
      "[6, 12, 18, 24, 30, 36, 42, 48, 54, 60, 66, 72, 78, 84, 90, 96]\n"
     ]
    }
   ],
   "source": [
    "x = [i for i in range(1,100) if (i % 3 == 0 and i % 2 == 0)]\n",
    "print(x)"
   ]
  },
  {
   "cell_type": "markdown",
   "metadata": {},
   "source": [
    "5. Write a program in Python to reverse a string and print only the vowel alphabet if it exists in the string with their index."
   ]
  },
  {
   "cell_type": "code",
   "execution_count": 5,
   "metadata": {},
   "outputs": [
    {
     "name": "stdout",
     "output_type": "stream",
     "text": [
      "Your string:  Parth Patel\n",
      "Vovel in string from last with index\n",
      "index from last:  1    Vovel:  e\n",
      "index from last:  3    Vovel:  a\n",
      "index from last:  9    Vovel:  a\n"
     ]
    }
   ],
   "source": [
    "a = input(\"Enter the string: \")\n",
    "b = a[::-1]\n",
    "vovel = ['a','A','e','E','i','I','o','O','u','U']\n",
    "print(\"Your string: \",a)\n",
    "print(\"Vovel in string from last with index\")\n",
    "for i,j in enumerate(b):\n",
    "    if (j in vovel):\n",
    "        print(\"index from last: \", i, \"  \",\"Vovel: \",j)\n",
    "\n"
   ]
  },
  {
   "cell_type": "markdown",
   "metadata": {},
   "source": [
    "6. Write a program in Python to iterate through the string “hello my name is abcde” and print the string which is having an even length."
   ]
  },
  {
   "cell_type": "code",
   "execution_count": 10,
   "metadata": {},
   "outputs": [
    {
     "name": "stdout",
     "output_type": "stream",
     "text": [
      "Your string length is even\n",
      "Your string:  hello my name is abcde\n"
     ]
    }
   ],
   "source": [
    "a = input(\"Enter the string: \")\n",
    "if (len(a)) % 2 == 0:\n",
    "    print(\"Your string length is even\")\n",
    "    print(\"Your string: \",a)\n",
    "else:\n",
    "    print(\"Your string length is odd\")\n"
   ]
  },
  {
   "cell_type": "markdown",
   "metadata": {},
   "source": [
    "7. Write a program in python to print the pair of numbers whose sum is equal to the result number that is let's say 8. x=[1,2,3,4,5,6,7,8,9,-1]"
   ]
  },
  {
   "cell_type": "code",
   "execution_count": 6,
   "metadata": {},
   "outputs": [
    {
     "name": "stdout",
     "output_type": "stream",
     "text": [
      "Your Entered value is : [1, 2, 3, 4, 5, 6, 7, 8, 9, -1]\n",
      "pair of values which sum is 8 : [[9, -1]]\n"
     ]
    }
   ],
   "source": [
    "''' if it is giving error like (TypeError: 'generator' object is not subscriptable)\n",
    "Need to run as seprated python file, jyupter python givin error when convert set to list sometimes It happens when I am running on my side\n",
    "'''\n",
    "a = input(\"Enter the comma seprated numbers: \")\n",
    "sumval = int(input(\"For finding the valuse whose sum is equal to :\"))\n",
    "b = a.split(\",\")\n",
    "b = list(set([int(i) for i in b]))\n",
    "print(f\"Your Entered value is : {b}\")\n",
    "\n",
    "result = []\n",
    "for i in range(0,len(b)):\n",
    "    for j in range(i+1,len(b)):\n",
    "        if sum(b[i:j+1]) == sumval:\n",
    "            result.append(b[i:j+1])\n",
    "print(\"pair of values which sum is\",sumval,\":\",result)"
   ]
  },
  {
   "cell_type": "markdown",
   "metadata": {},
   "source": [
    "8. Write a program in Python to complete the following task:\n",
    "\n",
    "- Create two lists such as even_list and odd_list\n",
    "- Ask user to enter a number in the range of 1,50 and make sure if the entered number iseven, append it to the even_list and if the entered number is odd append it to the odd_list.\n",
    "- Keep that in mind you can only add 5 items in each list\n",
    "- Make sure once you enter all the 5 elements, calculate the sum of the list and return the maximum of the list."
   ]
  },
  {
   "cell_type": "code",
   "execution_count": 1,
   "metadata": {},
   "outputs": [
    {
     "name": "stdout",
     "output_type": "stream",
     "text": [
      "sum of Even numbers:  18\n",
      "sum of odd numbers:  21\n",
      "sum of all numbers:  39\n",
      "max of all numbers:  10\n"
     ]
    }
   ],
   "source": [
    "even_list = []\n",
    "odd_list = []\n",
    "try:\n",
    "    for i in range(5):\n",
    "        a = int(input(\"Enter a number in a range of 1,50: \"))\n",
    "        if(a < 50):\n",
    "            if (a%2 == 0):\n",
    "                even_list.append(a)\n",
    "            else:\n",
    "                odd_list.append(a)\n",
    "        else:\n",
    "            print(\"Entered number is larger then 50\")\n",
    "            break\n",
    "    print(\"sum of Even numbers: \",sum(even_list))\n",
    "    print(\"sum of odd numbers: \",sum(odd_list))\n",
    "    print(\"sum of all numbers: \",sum(odd_list)+sum(even_list))\n",
    "    mxE = max(even_list)\n",
    "    myO = max(odd_list)\n",
    "    if (mxE > myO):\n",
    "        print(\"max number from all numbers: \",mxE)\n",
    "    else:\n",
    "        print(\"max number from all numbers: \",myO)\n",
    "except:\n",
    "        print(\"Enter the only number\")"
   ]
  },
  {
   "cell_type": "markdown",
   "metadata": {},
   "source": [
    "9. Write a program to find out the occurrence of a specific character from an alphanumeric string.\n",
    "\n",
    "Sample input: 12abcbacbaba344ab  \n",
    "\n",
    "Expected output: a=5 b=5 c=2\n",
    "\n",
    "NOTE: Make sure to avoid counting the occurrence of  numeric values  in the string."
   ]
  },
  {
   "cell_type": "code",
   "execution_count": 1,
   "metadata": {},
   "outputs": [
    {
     "name": "stdout",
     "output_type": "stream",
     "text": [
      "a = 5\n",
      "b = 5\n",
      "c = 2\n"
     ]
    }
   ],
   "source": [
    "\n",
    "a = input(\"Enter the string: \")\n",
    "char = set()\n",
    "for i in a:\n",
    "    if i.isalpha():\n",
    "        char.add(i)\n",
    "char = list(char)\n",
    "char.sort()\n",
    "for i in char:\n",
    "    print(f\"{i} = {a.count(i)}\")\n"
   ]
  },
  {
   "cell_type": "markdown",
   "metadata": {},
   "source": [
    "10. Generate and print another tuple whose values are even numbers in the given tuple (1,2,3,4,5,6,7,8,9,10)."
   ]
  },
  {
   "cell_type": "code",
   "execution_count": 4,
   "metadata": {},
   "outputs": [
    {
     "name": "stdout",
     "output_type": "stream",
     "text": [
      "(2, 4, 6, 8, 10)\n"
     ]
    }
   ],
   "source": [
    "a = (1,2,3,4,5,6,7,8,9,10)\n",
    "even = tuple(i for i in a if i %2 == 0)\n",
    "print(even)\n"
   ]
  }
 ],
 "metadata": {
  "kernelspec": {
   "display_name": "Python 3.9.12 ('base')",
   "language": "python",
   "name": "python3"
  },
  "language_info": {
   "codemirror_mode": {
    "name": "ipython",
    "version": 3
   },
   "file_extension": ".py",
   "mimetype": "text/x-python",
   "name": "python",
   "nbconvert_exporter": "python",
   "pygments_lexer": "ipython3",
   "version": "3.9.12"
  },
  "orig_nbformat": 4,
  "vscode": {
   "interpreter": {
    "hash": "9d7145ac079ffe9d15656a1e08230b2cbcf4be7a60af871e5b934c424fa38166"
   }
  }
 },
 "nbformat": 4,
 "nbformat_minor": 2
}
