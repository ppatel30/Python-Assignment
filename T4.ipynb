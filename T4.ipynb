{
 "cells": [
  {
   "cell_type": "markdown",
   "metadata": {},
   "source": [
    "'''\n",
    "1. Write a program to reverse a string.\n",
    "Sample input: “1234abcd”\n",
    "Expected output: “dcba4321”\n",
    "'''\n"
   ]
  },
  {
   "cell_type": "code",
   "execution_count": null,
   "metadata": {},
   "outputs": [],
   "source": [
    "print('''Ans of Q1\n",
    "#####################################################################################''')\n",
    "\n",
    "a = input(\"Enter any string: \")\n",
    "# by loop\n",
    "revSt = \"\"\n",
    "for i in a:\n",
    "    revSt = i + revSt\n",
    "print(f\"reverse string by loop: {revSt}\")\n",
    "\n",
    "# by slicing\n",
    "\n",
    "revSt = a[::-1]\n",
    "print(f\"reverse string by slicing: {revSt}\")\n"
   ]
  },
  {
   "cell_type": "markdown",
   "metadata": {},
   "source": [
    "\n",
    "'''\n",
    "2. Write a function that accepts a string and prints the number of uppercase letters and lowercase letters.\n",
    "Sample input: “abcSdefPghijQkl”\n",
    "Expected Output: No. of Uppercase characters : 3 No. of Lower case Characters : 12\n",
    "'''\n"
   ]
  },
  {
   "cell_type": "code",
   "execution_count": null,
   "metadata": {},
   "outputs": [],
   "source": [
    "\n",
    "print(\"\")\n",
    "print('''Ans of Q2\n",
    "#####################################################################################''')\n",
    "\n",
    "a = input(\"Enter any string: \")\n",
    "lowerCount,upperCount = 0,0\n",
    "\n",
    "for i in a:\n",
    "    if (i.isupper()):\n",
    "        upperCount += 1\n",
    "    elif (i.islower()):\n",
    "        lowerCount +=1\n",
    "print(f\"No. of Uppercase characters : {upperCount}, No. of Lower case Characters : {lowerCount}\")\n",
    "\n",
    "'''\n",
    "3. Create a function that takes a list and returns a new list with unique elements of the first list.\n",
    "'''\n",
    "print(\"\")\n",
    "print('''Ans of Q3\n",
    "#####################################################################################''')\n",
    "\n",
    "def uniqueElement(x):\n",
    "    a = set(x)\n",
    "    return list(a)\n",
    "\n",
    "x = [1, 5, 10, 15,5,2, 1, 0, 3, 10]\n",
    "a = uniqueElement(x)\n",
    "print(a)\n"
   ]
  },
  {
   "cell_type": "markdown",
   "metadata": {},
   "source": [
    "\n",
    "'''\n",
    "4. Write a program that accepts a hyphen-separated sequence of words as input and prints the words in a hyphen-separated sequence after sorting them alphabetically.\n",
    "'''\n"
   ]
  },
  {
   "cell_type": "code",
   "execution_count": null,
   "metadata": {},
   "outputs": [],
   "source": [
    "print(\"\")\n",
    "print('''Ans of Q4\n",
    "#####################################################################################''')\n",
    "\n",
    "a = input (\"Enter a hyphen-separated sequence of words: \")\n",
    "words = a.split('-')\n",
    "words.sort()\n",
    "#  Using built in join function\n",
    "a = '-'.join(words)\n",
    "print(a)\n",
    "# using loop\n",
    "a = \"\"\n",
    "for i in words:\n",
    "    a = a + str(i) + \"-\"\n",
    "a = a[:-1]\n",
    "print(a)\n"
   ]
  },
  {
   "cell_type": "markdown",
   "metadata": {},
   "source": [
    "'''\n",
    "5. Write a program that accepts a sequence of lines as input and prints the lines after making all characters in the sentence capitalized.\n",
    "Sample input: Hello world Practice makes man perfect\n",
    "Expected output: HELLO WORLD PRACTICE MAKES MAN PERFECT\n",
    "'''\n"
   ]
  },
  {
   "cell_type": "code",
   "execution_count": null,
   "metadata": {},
   "outputs": [],
   "source": [
    "print(\"\")\n",
    "print('''Ans of Q5\n",
    "#####################################################################################''')\n",
    "text = input(\"Enter your text here:\")\n",
    "text = text.upper()\n",
    "print(f\"your input in upper case:\\n{text}\")\n"
   ]
  },
  {
   "cell_type": "markdown",
   "metadata": {},
   "source": [
    "'''\n",
    "6. Define a function that can receive two integral numbers in string form and compute their sum and print it in the console.\n",
    "'''\n"
   ]
  },
  {
   "cell_type": "code",
   "execution_count": null,
   "metadata": {},
   "outputs": [],
   "source": [
    "print(\"\")\n",
    "print('''Ans of Q6\n",
    "#####################################################################################''')\n",
    "\n",
    "def add(a,b):\n",
    "    return int(a) + int(b)\n",
    "\n",
    "a = '5'\n",
    "b = '10'\n",
    "print(f\"sum of {a} and {b} = {add(a,b)}\")\n"
   ]
  },
  {
   "cell_type": "markdown",
   "metadata": {},
   "source": [
    "'''\n",
    "7. Define a function that can accept two strings as input and print the string with the maximum length in the console. If two strings have the same length, then the function should print both the strings line by line.\n",
    "'''\n"
   ]
  },
  {
   "cell_type": "code",
   "execution_count": null,
   "metadata": {},
   "outputs": [],
   "source": [
    "print(\"\")\n",
    "print('''Ans of Q7\n",
    "#####################################################################################''')\n",
    "\n",
    "def printMaxLenght(a,b):\n",
    "    if(len(a)>len(b)):\n",
    "        print(f\"Longest String (count:{len(a)})\")\n",
    "        print(a)\n",
    "    if(len(a) == len(b)):\n",
    "        print(f\"Longest String (count:{len(a)})\")\n",
    "        print(a)\n",
    "        print(b)\n",
    "    else:\n",
    "        print(f\"Longest String (count:{len(b)})\")\n",
    "        print(b)\n",
    "\n",
    "a = input(\"Enter the string 1: \")\n",
    "b = input(\"Enter the string 2: \")\n",
    "printMaxLenght(a,b)"
   ]
  },
  {
   "cell_type": "markdown",
   "metadata": {},
   "source": [
    "\n",
    "'''\n",
    "8. Define a function which can generate and print a tuple where the values are square of numbers between 1 and 20 (both 1 and 20 included).\n",
    "'''\n"
   ]
  },
  {
   "cell_type": "code",
   "execution_count": null,
   "metadata": {},
   "outputs": [],
   "source": []
  },
  {
   "cell_type": "code",
   "execution_count": null,
   "metadata": {},
   "outputs": [],
   "source": [
    "\n",
    "print(\"\")\n",
    "print('''Ans of Q8\n",
    "#####################################################################################''')\n",
    "\n",
    "def squareTuple():\n",
    "    sqList = []\n",
    "    for i in range(1,21):\n",
    "        sqList.append(i ** 2)\n",
    "    return tuple(sqList)    \n",
    "\n",
    "x = squareTuple()\n",
    "print(x)\n"
   ]
  },
  {
   "cell_type": "markdown",
   "metadata": {},
   "source": [
    "\n",
    "'''\n",
    "9. Write a function called showNumbers that takes a parameter called limit. It should print all the numbers between 0 and limit with a label to identify the even and odd numbers.\n",
    "'''\n"
   ]
  },
  {
   "cell_type": "code",
   "execution_count": null,
   "metadata": {},
   "outputs": [],
   "source": [
    "print(\"\")\n",
    "print('''Ans of Q9\n",
    "#####################################################################################''')\n",
    "\n",
    "def showNumbers(limit):\n",
    "    for i in range(limit+1):\n",
    "        print(f\"{i} {'EVEN'if i%2 == 0 else 'ODD'}\")\n",
    "\n",
    "a = int(input(\"Enter the limit to print ODD/EVEN number: \"))\n",
    "showNumbers(a)\n"
   ]
  },
  {
   "cell_type": "markdown",
   "metadata": {},
   "source": [
    "\n",
    "'''\n",
    "10. Write a program which uses filter() to make a list whose elements are even numbers between 1 and 20 (both included)\n",
    "'''\n"
   ]
  },
  {
   "cell_type": "code",
   "execution_count": null,
   "metadata": {},
   "outputs": [],
   "source": [
    "print(\"\")\n",
    "print('''Ans of Q10\n",
    "#####################################################################################''')\n",
    "\n",
    "a = [i for i in range(1,21)]\n",
    "z = lambda i:i%2 == 0\n",
    "evenNum = filter(z,a)\n",
    "print(list(evenNum))\n"
   ]
  },
  {
   "cell_type": "markdown",
   "metadata": {},
   "source": [
    "\n",
    "11. Write a program which uses map() and filter() to make a list whose elements are squares of even numbers in [1,2,3,4,5,6,7,8,9,10].\n",
    "\n",
    "Hints: Use filter() to filter even elements of the given listUse map() to generate a list of squares of the numbers in the filtered list. Use lambda() to define anonymous functions.\n",
    "\n"
   ]
  },
  {
   "cell_type": "code",
   "execution_count": null,
   "metadata": {},
   "outputs": [],
   "source": [
    "\n",
    "print(\"\")\n",
    "print('''Ans of Q11\n",
    "#####################################################################################''')\n",
    "\n",
    "myList = [i for i in range(1,11)]\n",
    "print(f\"My List: {myList}\")\n",
    "evenNum = list(filter(lambda x : x%2 == 0, myList))\n",
    "print(f\"Even numbers: {evenNum}\")\n",
    "squareNum = list(map(lambda x : x ** 2,evenNum))\n",
    "print(f\"Square of that Even numbers: {squareNum}\")\n"
   ]
  },
  {
   "cell_type": "markdown",
   "metadata": {},
   "source": [
    "\n",
    "12. Write a function to compute 5/0 and use try/except to catch the exceptions\n"
   ]
  },
  {
   "cell_type": "code",
   "execution_count": null,
   "metadata": {},
   "outputs": [],
   "source": [
    "print(\"\")\n",
    "print('''Ans of Q12\n",
    "#####################################################################################''')\n",
    "\n",
    "def div(a,b):\n",
    "    return a/b\n",
    "\n",
    "a = int(input(\"Enter numerator to perform Division: \"))\n",
    "b = int(input(\"Enter denominator to perform Division: \"))\n",
    "\n",
    "try:\n",
    "    print(\"Division of {} by {} is {:.2f}\".format(a,b,div(a,b)))\n",
    "except Exception as e:\n",
    "    print(e)\n"
   ]
  },
  {
   "cell_type": "markdown",
   "metadata": {},
   "source": [
    "\n",
    "13. Flatten the list [1,2,3,4,5,6,7] into 1234567 using reduce().\n"
   ]
  },
  {
   "cell_type": "code",
   "execution_count": null,
   "metadata": {},
   "outputs": [],
   "source": [
    "from functools import reduce\n",
    "\n",
    "print(\"\")\n",
    "print('''Ans of Q13\n",
    "#####################################################################################''')\n",
    "\n",
    "myList = [1,2,3,4,5,6,7]\n",
    "z = reduce(lambda x,y : str(x) + str(y),myList)\n",
    "print(z)\n"
   ]
  },
  {
   "cell_type": "markdown",
   "metadata": {},
   "source": [
    "\n",
    "14. Write a program in Python to find the values which are not divisible by 3 but are a multiple of 7. Make sure to use only higher order functions.\n"
   ]
  },
  {
   "cell_type": "code",
   "execution_count": null,
   "metadata": {},
   "outputs": [],
   "source": [
    "print(\"\")\n",
    "print('''Ans of Q14\n",
    "#####################################################################################''')\n",
    "\n",
    "def notDiv3(a):\n",
    "    temp = []\n",
    "    for i in a:\n",
    "        if i % 3 != 0 : temp.append(i) \n",
    "    return temp\n",
    "\n",
    "def mul7AndDiv3(a):\n",
    "    x = notDiv3(a)\n",
    "    temp = []\n",
    "    for i in x:\n",
    "        if (i % 7 == 0):\n",
    "            temp.append(i)\n",
    "    return temp\n",
    "            \n",
    "a = int(input(\"Upto which number that need to find out the values are not divisible by 3 but are a multiple of 7: \"))\n",
    "myList  = [i for i in range(1,a+1)]\n",
    "\n",
    "print(f\"From the list: {myList}\\nThe values which are not divisible by 3 but are a multiple of 7: {mul7AndDiv3(myList)}\")\n"
   ]
  },
  {
   "cell_type": "markdown",
   "metadata": {},
   "source": [
    "\n",
    "15. Write a program in Python to multiply the elements of a list by itself using a traditional function and pass the function to map() to complete the operation.\n"
   ]
  },
  {
   "cell_type": "code",
   "execution_count": null,
   "metadata": {},
   "outputs": [],
   "source": [
    "print(\"\")\n",
    "print('''Ans of Q15\n",
    "#####################################################################################''')\n",
    "\n",
    "def mulItslef(x):\n",
    "    return x * x\n",
    "\n",
    "myList = [i for i in range(1,21)]\n",
    "\n",
    "ouptputList = list(map(mulItslef,myList))\n",
    "print(f\"My List: {myList}\")\n",
    "print(f\"Output List: {ouptputList}\")"
   ]
  }
 ],
 "metadata": {
  "kernelspec": {
   "display_name": "Python 3.9.12 ('base')",
   "language": "python",
   "name": "python3"
  },
  "language_info": {
   "name": "python",
   "version": "3.9.12"
  },
  "orig_nbformat": 4,
  "vscode": {
   "interpreter": {
    "hash": "9d7145ac079ffe9d15656a1e08230b2cbcf4be7a60af871e5b934c424fa38166"
   }
  }
 },
 "nbformat": 4,
 "nbformat_minor": 2
}
