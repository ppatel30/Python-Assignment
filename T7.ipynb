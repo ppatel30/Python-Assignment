{
 "cells": [
  {
   "cell_type": "markdown",
   "metadata": {},
   "source": [
    "1. Write a program that calculates and prints the value according to the given formula:\n",
    "Q= Square root of [(2*C*D)/H]\n",
    "Following are the fixed values of C and H:\n",
    "C is 50.\n",
    "H is 30.\n",
    "D is a variable whose values should be input to your program in a comma-separated sequence"
   ]
  },
  {
   "cell_type": "code",
   "execution_count": 1,
   "metadata": {},
   "outputs": [
    {
     "name": "stdout",
     "output_type": "stream",
     "text": [
      "Output of Square root of [(2*C*D)/H] where C = 50 and H =30 and D = 5: 4.0825\n"
     ]
    }
   ],
   "source": [
    "from math import sqrt\n",
    "\n",
    "def Q(D, C= 50, H =30):\n",
    "    return sqrt((2*C*D)/H)\n",
    "\n",
    "a = int(input(\"Enter the number: \"))\n",
    "\n",
    "Output = Q(a)\n",
    "# Output =sqrt(a)\n",
    "print(f\"Output of Square root of [(2*C*D)/H] where C = 50 and H =30 and D = {a}: {Output:.4f}\")"
   ]
  },
  {
   "cell_type": "markdown",
   "metadata": {},
   "source": [
    "\n",
    "2. Define a class named Shape and its subclass Square. The Square class has an init function whichtakes length as argument. Both classes have an area function which can print the area of the shapewhere Shape’s area is 0 by default. \n"
   ]
  },
  {
   "cell_type": "code",
   "execution_count": 2,
   "metadata": {},
   "outputs": [
    {
     "name": "stdout",
     "output_type": "stream",
     "text": [
      "Area of square is : 25\n",
      "Shape is not define, default value of area is 0\n"
     ]
    },
    {
     "data": {
      "text/plain": [
       "0"
      ]
     },
     "execution_count": 2,
     "metadata": {},
     "output_type": "execute_result"
    }
   ],
   "source": [
    "class Shape:\n",
    "    def area(self):\n",
    "        print(\"Shape is not define, default value of area is 0\")\n",
    "        return 0\n",
    "\n",
    "\n",
    "class Square(Shape):\n",
    "    def __init__(self,length):\n",
    "        self.length = length\n",
    "\n",
    "    def area(self):\n",
    "        print(f\"Area of square is : {self.length * self.length}\")\n",
    "        return self.length * self.length\n",
    "\n",
    "Sq1 = Square(5)\n",
    "S1 = Shape()\n",
    "Sq1.area()\n",
    "S1.area()"
   ]
  },
  {
   "cell_type": "markdown",
   "metadata": {},
   "source": [
    "\n",
    "3. Create a class to find three elements that sum to zero from a set of n real numbers\n",
    "Input array: [-25,-10,-7,-3,2,4,8,10]\n",
    "Expected output: [[-10,2,8],[-7,-3,10]]"
   ]
  },
  {
   "cell_type": "code",
   "execution_count": 3,
   "metadata": {},
   "outputs": [
    {
     "name": "stdout",
     "output_type": "stream",
     "text": [
      "Your Entered value is : [2, 4, -25, 8, 10, -10, -7, -3]\n",
      "Set of three values which sume is 0 from the given values: [[8, 2, -10], [-7, 10, -3]]\n"
     ]
    }
   ],
   "source": [
    "class FindSum0:\n",
    "    def __init__(self,x):\n",
    "        self.x = x\n",
    "        self.y = x\n",
    "        self.z = x\n",
    "        self.output = []\n",
    "        self.count = 0\n",
    "    \n",
    "    def FindComb(self):\n",
    "        for i in self.x:\n",
    "            for j in self.y[1:]:\n",
    "                for k in self.z[2:]:\n",
    "                    if (i + j + k == 0):\n",
    "                        temp = set([i,j,k])\n",
    "                        if len(temp) == 3:\n",
    "                            temp = list(temp)\n",
    "                            if self.output.count(temp) == 0:\n",
    "                                self.count = self.count + 1\n",
    "                                self.output.append(temp)\n",
    "        return self.output\n",
    "\n",
    "\n",
    "a = input(\"Enter the comma seprated numbers: \")\n",
    "b = a.split(\",\")\n",
    "b = list(set([int(i) for i in b]))\n",
    "print(f\"Your Entered value is : {b}\")\n",
    "obj = FindSum0(b)\n",
    "print(f\"Set of three values which sume is 0 from the given values: {obj.FindComb()}\")"
   ]
  },
  {
   "cell_type": "markdown",
   "metadata": {},
   "source": [
    "4. Create a Time class and initialize it with hours and minutes.\n",
    "Create a method addTime which should take two Time objects and add them.\n",
    "E.g.- (2 hour and 50 min)+(1 hr and 20 min) is (4 hr and 10 min)\n",
    "Create another method displayTime which should print the time.\n",
    "Also create a method displayMinute which should display the total minutes in the Time.\n",
    "E.g.- (1 hr 2 min) should display 62 minute."
   ]
  },
  {
   "cell_type": "code",
   "execution_count": 4,
   "metadata": {},
   "outputs": [
    {
     "name": "stdout",
     "output_type": "stream",
     "text": [
      "Total time is 3 hours, 3 minutes\n",
      "Total time in minutes is 183\n"
     ]
    }
   ],
   "source": [
    "class Time:\n",
    "    def __init__(self,hours,minutes):\n",
    "        self.hours = hours\n",
    "        self.minutes = minutes\n",
    "    \n",
    "    def addTime(self,other):\n",
    "        hr = self.hours + other.hours\n",
    "        min = self.minutes + other.minutes\n",
    "        if min == 60:\n",
    "            hr += 1\n",
    "            min = 0\n",
    "        elif min == 120:\n",
    "            hr += 2 \n",
    "            min = 0\n",
    "        elif min > 60:\n",
    "            hr += 1\n",
    "            min = min - 60  \n",
    "        return Time(hr, min)\n",
    "\n",
    "    def displayTime(self):\n",
    "        print(f\"Total time is {self.hours} hours, {self.minutes} minutes\")\n",
    "\n",
    "    def displayMinute(self):\n",
    "        self.minutes =  (self.hours * 60) + self.minutes\n",
    "        print(f\"Total time in minutes is {self.minutes}\")\n",
    "\n",
    "# Time (Hr,min)\n",
    "T1 = Time(1,2)\n",
    "T2 = Time(2,1)\n",
    "T3 = T1.addTime(T2)\n",
    "T3.displayTime()\n",
    "T3.displayMinute()"
   ]
  },
  {
   "cell_type": "markdown",
   "metadata": {},
   "source": [
    "5. Write a Person class with an instance variable “age” and a constructor that takes an integer as a parameter. The constructor must assign the integer value to the age variable after confirming the argument passed is not negative; if a negative argument is passed then the constructor should set age to 0 and print “Age is not valid, setting age to 0”. In addition, you must write the following instance methods:\n",
    "- yearPasses() should increase age by the integer value that you are passing inside the function.\n",
    "- amIOld() should perform the following conditional actions:\n",
    "    - If age is between 0 and <13, print “You are young”.\n",
    "    - If age is >=13 and <=19 , print “You are a teenager”.\n",
    "    - Otherwise, print “You are old”."
   ]
  },
  {
   "cell_type": "code",
   "execution_count": 5,
   "metadata": {},
   "outputs": [
    {
     "name": "stdout",
     "output_type": "stream",
     "text": [
      "You are old\n",
      "Age is not valid, setting age to 0\n",
      "You are old\n"
     ]
    }
   ],
   "source": [
    "class Person:\n",
    "    def __init__(self, age):\n",
    "        if (age >= 0):\n",
    "            self.age = int(age)\n",
    "        else:\n",
    "            self.age = 0\n",
    "            print(\"Age is not valid, setting age to 0\")\n",
    "\n",
    "    def yearPass(self, x):\n",
    "        self.age += int(x)\n",
    "        return self.age\n",
    "\n",
    "    def amIOld(self):\n",
    "        if(self.age > 0 and self.age < 13): \n",
    "            print(\"You are young\")\n",
    "        elif(self.age >= 13 and self.age <= 19):\n",
    "            print(\"You are a teenager\")\n",
    "        else:\n",
    "            print(\"You are old\")\n",
    "\n",
    "\n",
    "p1 = Person(10)\n",
    "p1.yearPass(10)\n",
    "p1.amIOld()\n",
    "\n",
    "p2 = Person(-4)\n",
    "p2.yearPass(22)\n",
    "p2.amIOld()"
   ]
  }
 ],
 "metadata": {
  "kernelspec": {
   "display_name": "Python 3.9.12 ('base')",
   "language": "python",
   "name": "python3"
  },
  "language_info": {
   "codemirror_mode": {
    "name": "ipython",
    "version": 3
   },
   "file_extension": ".py",
   "mimetype": "text/x-python",
   "name": "python",
   "nbconvert_exporter": "python",
   "pygments_lexer": "ipython3",
   "version": "3.9.12"
  },
  "orig_nbformat": 4,
  "vscode": {
   "interpreter": {
    "hash": "9d7145ac079ffe9d15656a1e08230b2cbcf4be7a60af871e5b934c424fa38166"
   }
  }
 },
 "nbformat": 4,
 "nbformat_minor": 2
}
