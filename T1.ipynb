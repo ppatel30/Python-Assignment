{
 "cells": [
  {
   "cell_type": "markdown",
   "metadata": {},
   "source": [
    "\n",
    "1. Create three variables in a single line and assign values to them in such a manner that each one of them belongs to a different data type."
   ]
  },
  {
   "cell_type": "code",
   "execution_count": null,
   "metadata": {},
   "outputs": [],
   "source": [
    "a,b,c = 1,2.01,'string'\n",
    "print(a, type(a))\n",
    "print(b, type(b))\n",
    "print(c, type(c))"
   ]
  },
  {
   "cell_type": "markdown",
   "metadata": {},
   "source": [
    "\n",
    "2. Create a variable of type complex and swap it with another variable of type integer.\n"
   ]
  },
  {
   "cell_type": "code",
   "execution_count": 3,
   "metadata": {},
   "outputs": [
    {
     "name": "stdout",
     "output_type": "stream",
     "text": [
      "1\n"
     ]
    }
   ],
   "source": [
    "x = 1+2j\n",
    "y = int(x.real)\n",
    "print(y)"
   ]
  },
  {
   "cell_type": "markdown",
   "metadata": {},
   "source": [
    "3. Swap two numbers using a third variable and do the same task without using any third variable."
   ]
  },
  {
   "cell_type": "code",
   "execution_count": 4,
   "metadata": {},
   "outputs": [
    {
     "name": "stdout",
     "output_type": "stream",
     "text": [
      " assigned values, x = 5 , y = 10\n",
      "values after swap using third variable, x = 10 , y = 5\n",
      " assigned values, x = 5 , y = 10\n",
      "values after swap whithout using third variable, x = 10 , y = 5\n"
     ]
    }
   ],
   "source": [
    "\n",
    "# Swap the values using third variable\n",
    "x = 5\n",
    "y = 10\n",
    "print(f\"assigned values, x = {x} , y = {y}\")\n",
    "\n",
    "z = x\n",
    "x = y\n",
    "y = z\n",
    "print(f\"values after swap using third variable, x = {x} , y = {y}\")\n",
    "\n",
    "# Swap the values without using third variable\n",
    "x = 5\n",
    "y = 10\n",
    "print(f\"assigned values, x = {x} , y = {y}\")\n",
    "\n",
    "\n",
    "x , y = y, x\n",
    "print(f\"values after swap whithout using third variable, x = {x} , y = {y}\")"
   ]
  },
  {
   "cell_type": "markdown",
   "metadata": {},
   "source": [
    "4. Write a program that takes input from the user and prints it using both Python 2.x and Python 3.x Version."
   ]
  },
  {
   "cell_type": "code",
   "execution_count": 6,
   "metadata": {},
   "outputs": [
    {
     "name": "stdout",
     "output_type": "stream",
     "text": [
      "your input = Parth\n"
     ]
    }
   ],
   "source": [
    "u_in = input(\"Enter your full name: \")\n",
    "print(f\"your input = {u_in}\")\n",
    "# for python 2.x\n",
    "#print \"your input = {}\".format(u_in)"
   ]
  },
  {
   "cell_type": "markdown",
   "metadata": {},
   "source": [
    "5. Write a program to complete the task given below:\n",
    "Ask users to enter any 2 numbers in between 1-10 , add the two numbers and keep the sum in\n",
    "another variable called z. Add 30 to z and store the output in variable result and print result as the final output."
   ]
  },
  {
   "cell_type": "code",
   "execution_count": null,
   "metadata": {},
   "outputs": [],
   "source": [
    "a = int(input(\"Enter number between 1-10: \"))\n",
    "b = int(input(\"Enter number between 1-10: \"))\n",
    "z = a+b\n",
    "result = z+30\n",
    "print(f\"Final output after adding 30 in sum of your two numbers: {result}\")"
   ]
  },
  {
   "cell_type": "markdown",
   "metadata": {},
   "source": [
    "6. Write a program to check the data type of the entered values.\n",
    "HINT: Printed output should say - The data type of the input value is : int/float/string/etc"
   ]
  },
  {
   "cell_type": "code",
   "execution_count": 16,
   "metadata": {},
   "outputs": [
    {
     "name": "stdout",
     "output_type": "stream",
     "text": [
      "Finding out with out eval function\n",
      "Datatype of Entered value is int\n",
      "\n",
      "Finding out with eval function\n",
      "The datatype of given value is <class 'int'>\n"
     ]
    }
   ],
   "source": [
    "a = input(\"Enter anything: \")\n",
    "\n",
    "# with out eval function\n",
    "print(\"Finding out with out eval function\")\n",
    "if (a == '0' or a == '1'):\n",
    "    print(\"Datatype of Entered value is Bool\")\n",
    "elif (a.isdecimal):\n",
    "    if(a.count('.')==1):\n",
    "        print(\"Datatype of Entered value is float\")\n",
    "    if(a.count('.')>1):\n",
    "        print(\"Consider Datatype of Entered value is string\")\n",
    "    if(a.count('.')==0):\n",
    "        print (\"Datatype of Entered value is int\")\n",
    "else:\n",
    "    print (\"Datatype of Entered value is Str\")\n",
    "\n",
    "#With the help of eval\n",
    "print(\"\")\n",
    "print(\"Finding out with eval function\")\n",
    "try:\n",
    "    x = type(eval(a))\n",
    "    print(f\"The datatype of given value is {x}\")\n",
    "except:\n",
    "    print(f\"The datatype of given value is <class 'str'>\")"
   ]
  },
  {
   "cell_type": "markdown",
   "metadata": {},
   "source": [
    "7. Create Variables using formats such as Upper CamelCase, Lower CamelCase, SnakeCase and\n",
    "UPPERCASE."
   ]
  },
  {
   "cell_type": "code",
   "execution_count": 18,
   "metadata": {},
   "outputs": [
    {
     "name": "stdout",
     "output_type": "stream",
     "text": [
      "Upper CamelCase(Pastal Case): ParthPatel\n",
      "Lower CamelCase(CamelCase): parthPatel\n",
      "Snake CamelCase: parth_patel\n",
      "Upper Case: PARTH\n"
     ]
    }
   ],
   "source": [
    "# Upper CamelCase(Pastal Case)\n",
    "MyNameVar = \"ParthPatel\"\n",
    "print(f\"Upper CamelCase(Pastal Case): {MyNameVar}\")\n",
    "\n",
    "# Lower CamelCase(CamelCase)\n",
    "myNameVar = \"parthPatel\"\n",
    "print(f\"Lower CamelCase(CamelCase): {myNameVar}\")\n",
    "\n",
    "# Snake CamelCase\n",
    "my_name_var = \"parth_patel\"\n",
    "print(f\"Snake CamelCase: {my_name_var}\")\n",
    "\n",
    "# Upper Case\n",
    "MYNAMEVAR = \"PARTH\"\n",
    "print(f\"Upper Case: {MYNAMEVAR}\")"
   ]
  },
  {
   "cell_type": "markdown",
   "metadata": {},
   "source": [
    "8. If one data type value is assigned to ‘a’ variable and then a different data type value is assigned to ‘a’ again. Will it change the value? If Yes then Why?"
   ]
  },
  {
   "cell_type": "markdown",
   "metadata": {},
   "source": [
    "ANS: Yes, Value and datatype change to latest assigned vlaue and their datatype of any same variable in program, let see by the example below"
   ]
  },
  {
   "cell_type": "code",
   "execution_count": 21,
   "metadata": {},
   "outputs": [
    {
     "name": "stdout",
     "output_type": "stream",
     "text": [
      "a = 5 <class 'int'>\n",
      "a = Parth <class 'str'>\n"
     ]
    }
   ],
   "source": [
    "a = 5\n",
    "print(\"a =\",a,type(a))\n",
    "\n",
    "a = \"Parth\"\n",
    "print(\"a =\",a,type(a))"
   ]
  }
 ],
 "metadata": {
  "kernelspec": {
   "display_name": "Python 3 (ipykernel)",
   "language": "python",
   "name": "python3"
  },
  "language_info": {
   "codemirror_mode": {
    "name": "ipython",
    "version": 3
   },
   "file_extension": ".py",
   "mimetype": "text/x-python",
   "name": "python",
   "nbconvert_exporter": "python",
   "pygments_lexer": "ipython3",
   "version": "3.9.12"
  },
  "vscode": {
   "interpreter": {
    "hash": "9d7145ac079ffe9d15656a1e08230b2cbcf4be7a60af871e5b934c424fa38166"
   }
  }
 },
 "nbformat": 4,
 "nbformat_minor": 4
}
