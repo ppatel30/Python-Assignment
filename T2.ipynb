{
 "cells": [
  {
   "cell_type": "markdown",
   "metadata": {},
   "source": [
    "1. Write a program in Python to perform the following operation:\n",
    "- If a number is divisible by 3 it should print “Consultadd” as a string\n",
    "- If a number is divisible by 5 it should print “Python Training” as a string\n",
    "- If a number is divisible by both 3 and 5 it should print “Consultadd - Python Training” as a string."
   ]
  },
  {
   "cell_type": "code",
   "execution_count": null,
   "metadata": {},
   "outputs": [],
   "source": [
    "a = int(input(\"Enter any number: \"))\n",
    "b= 0\n",
    "if (a%3 == 0):\n",
    "    if (a%5 == 0):\n",
    "        print(\"Consultadd - Python Training\")\n",
    "    else:\n",
    "        print(\"Consultadd\")\n",
    "elif (a%5 == 0):\n",
    "    print(\"Python Training\")"
   ]
  },
  {
   "cell_type": "markdown",
   "metadata": {},
   "source": [
    "2. Write a program in Python to perform the following operator based task:\n",
    "- Ask user to choose the following option first:\n",
    "    If User Enter 1 - Addition\n",
    "    If User Enter 2 - Subtraction\n",
    "    If User Enter 3 - Division\n",
    "    If User Enter 4 - Multiplication\n",
    "    If User Enter 5 - Average\n",
    "- Ask user to enter two numbers and keep those numbers in variables num1 and num2 respectively for the first 4 options mentioned above.\n",
    "- Ask the user to enter two more numbers as first and second for calculating the average as\n",
    "soon as the user chooses an option 5.\n",
    "- At the end if the answer of any operation is Negative print a statement saying “NEGATIVE”\n",
    "NOTE: At a time a user can only perform one action."
   ]
  },
  {
   "cell_type": "code",
   "execution_count": null,
   "metadata": {},
   "outputs": [],
   "source": [
    "user_in = int(input('''Enter 1 - Addition\n",
    "    Enter 2 - Subtraction\n",
    "    Enter 3 - Division\n",
    "    Enter 4 - Multiplication\n",
    "    Enter 5 - Average\n",
    "    Note:select only one option at time\n",
    "    your selection: \n",
    "    '''))\n",
    "if (user_in in range(1,5)):\n",
    "    num1 = int(input(\"Enter the number 1: \"))\n",
    "    num2 = int(input(\"Enter the number 2: \"))\n",
    "elif(user_in == 5):\n",
    "    first = int(input(\"Enter the first number: \"))\n",
    "    second = int(input(\"Enter the second number: \"))\n",
    "else:\n",
    "    print(\"choose correct number\")\n",
    "\n",
    "if(user_in == 1):\n",
    "    z = num1+num2\n",
    "elif(user_in == 2):\n",
    "    z = num1-num2\n",
    "elif(user_in == 3):\n",
    "    z = num1/num2\n",
    "elif(user_in == 4):\n",
    "    z = num1*num2\n",
    "elif(user_in == 5):\n",
    "    z = (first+second)/2\n",
    "\n",
    "if(z<0):\n",
    "    print(\"NEGATIVE\")"
   ]
  },
  {
   "cell_type": "markdown",
   "metadata": {},
   "source": [
    "3. Program as per given flow chart"
   ]
  },
  {
   "cell_type": "code",
   "execution_count": null,
   "metadata": {},
   "outputs": [],
   "source": [
    "a = 10\n",
    "b = 20\n",
    "c = 30\n",
    "\n",
    "avg = (a +b +c)/3\n",
    "print(f\"avg ={avg}\")\n",
    "\n",
    "if(avg > a and avg > b and avg > c):\n",
    "    print(\"avg is higher than a,b,c\")\n",
    "else:\n",
    "    if(avg > a and avg > b):\n",
    "        print(\"avg is higher than a,b\")\n",
    "    else:\n",
    "        if(avg > a and avg > c):\n",
    "            print(\"avg is higher than a,c\")\n",
    "        else:\n",
    "            if(avg > b and avg > c):\n",
    "                print(\"avg is higher than b,c\")\n",
    "            else:\n",
    "                if(avg > a):\n",
    "                    print(\"avg is just higher than a\")\n",
    "                else:\n",
    "                    if(avg > b):\n",
    "                        print(\"avg is just higher than b\")\n",
    "                    else:\n",
    "                        if(avg > c):\n",
    "                            print(\"avg is just higher than c\")"
   ]
  },
  {
   "cell_type": "markdown",
   "metadata": {},
   "source": [
    "4. Write a program in Python to break and continue if the following cases occurs:\n",
    "- If user enters a negative number just break the loop and print “It’s Over”\n",
    "- If user enters a positive number just continue in the loop and print “Good Going”"
   ]
  },
  {
   "cell_type": "code",
   "execution_count": null,
   "metadata": {},
   "outputs": [],
   "source": [
    "while(True):\n",
    "    a = int(input(\"Enter any number: \"))\n",
    "    if (a<0):\n",
    "        print(\"It’s Over\")\n",
    "        break\n",
    "    print(\"Good Going\")"
   ]
  },
  {
   "cell_type": "markdown",
   "metadata": {},
   "source": [
    "5. Write a program in Python which will find all such numbers which are divisible by 7 but are not a multiple of 5, between 2000 and 3200."
   ]
  },
  {
   "cell_type": "code",
   "execution_count": null,
   "metadata": {},
   "outputs": [],
   "source": [
    "result = []\n",
    "for num in range(2000,3201):\n",
    "    if(num % 7 == 0 and num % 5 != 0):\n",
    "        result.append(num)\n",
    "\n",
    "print(result)"
   ]
  },
  {
   "cell_type": "markdown",
   "metadata": {},
   "source": [
    "7. Write a program that prints all the numbers from 0 to 6 except 3 and 6.\n",
    "Expected output: 0 1 2 4 5\n",
    "Note: Use ‘continue’ statement"
   ]
  },
  {
   "cell_type": "code",
   "execution_count": null,
   "metadata": {},
   "outputs": [],
   "source": [
    "s = \"\"\n",
    "for i in range(7):\n",
    "    if (i == 3 or i == 6):\n",
    "        continue\n",
    "    s = s + str(i) + \" \"  \n",
    "print(s)"
   ]
  },
  {
   "cell_type": "markdown",
   "metadata": {},
   "source": [
    "8. Write a program that accepts a string as an input from the user and calculate the number of digits and letters.\n",
    "Sample input: consul72\n",
    "Expected output: Letters 6 Digits 2"
   ]
  },
  {
   "cell_type": "code",
   "execution_count": null,
   "metadata": {},
   "outputs": [],
   "source": [
    "d,s = 0,0\n",
    "st = input (\"Enter the Alpha numeric: \")\n",
    "for i in st:\n",
    "    if(i.isalpha()):\n",
    "        s += 1\n",
    "    elif(i.isnumeric()):\n",
    "        d += 1\n",
    "\n",
    "print(f\"Letters {s} Digits {d}\")"
   ]
  },
  {
   "cell_type": "markdown",
   "metadata": {},
   "source": [
    "9. Read the two parts of the question below:\n",
    "- Write a program such that it asks users to “guess the lucky number”. If the correct number is guessed the program stops, otherwise it continues forever.\n",
    "- Modify the program so that it asks users whether they want to guess again each time. Use two variables, ‘number’ for the number and ‘answer’ for the answer to the question whether they want to continue guessing. The program stops if the user guesses the correct number or answers “no”. (The program continues as long as a user has not answered “no” and has not guessed the correct number)"
   ]
  },
  {
   "cell_type": "code",
   "execution_count": null,
   "metadata": {},
   "outputs": [],
   "source": [
    "\n",
    "'''\n",
    "part 1:\n",
    "\n",
    "number = 780\n",
    "while(True):\n",
    "    answer = int(input(\"guess the lucky number: \"))\n",
    "    if (answer == number):\n",
    "        break\n",
    "'''\n",
    "# Adding Part 2: \n",
    "\n",
    "number = 780\n",
    "while(True):\n",
    "    answer = int(input(\"guess the lucky number: \"))\n",
    "    if (answer == number):\n",
    "        break\n",
    "    else:\n",
    "        r = input(\"do you want to guess again (Y/N): \")\n",
    "        if (r.lower() == 'y'):\n",
    "            continue\n",
    "        elif (r.lower() == 'n'):\n",
    "            break\n"
   ]
  },
  {
   "cell_type": "markdown",
   "metadata": {},
   "source": [
    "10. Write a program that asks five times to guess the lucky number. Use a while loop and a counter,\n",
    "such as\n",
    "counter = 1\n",
    "While counter <= 5:\n",
    "    - print(“Type in the”, counter, “number”\n",
    "    - counter=counter+1\n",
    "\n",
    "The program asks for five guesses (no matter whether the correct number was guessed or not). If the\n",
    "correct number is guessed, the program outputs “Good guess!”, otherwise it outputs “Try again!”.\n",
    "After the fifth guess it stops and prints “Game over!”."
   ]
  },
  {
   "cell_type": "code",
   "execution_count": null,
   "metadata": {},
   "outputs": [],
   "source": [
    "number = 480\n",
    "counter = 1\n",
    "while (counter <= 5):\n",
    "    answer = int(input(\"guess the lucky number: \"))\n",
    "    if(answer == number):\n",
    "        print(\"Good guess!\")\n",
    "    else:\n",
    "        if(counter < 5):\n",
    "            print(\"Try again!\")\n",
    "    counter=counter+1\n",
    "print(\"Game over!\")"
   ]
  },
  {
   "cell_type": "markdown",
   "metadata": {},
   "source": [
    "11. In the previous question, insert break after the “Good guess!” print statement. break will terminate the while loop so that users do not have to continue guessing after they found the number. If the user does not guess the number at all, print “Sorry but that was not very successful”."
   ]
  },
  {
   "cell_type": "code",
   "execution_count": null,
   "metadata": {},
   "outputs": [],
   "source": [
    "number = 480\n",
    "counter = 1\n",
    "while (counter <= 5):\n",
    "    answer = int(input(\"guess the lucky number: \"))\n",
    "    if(answer == number):\n",
    "        print(\"Good guess!\")\n",
    "        break\n",
    "    else:\n",
    "        if(counter == 5):\n",
    "            print(\"Sorry but that was not very successful\")\n",
    "        else:\n",
    "            print(\"Try again!\")\n",
    "    counter=counter+1"
   ]
  }
 ],
 "metadata": {
  "kernelspec": {
   "display_name": "Python 3.9.12 ('base')",
   "language": "python",
   "name": "python3"
  },
  "language_info": {
   "name": "python",
   "version": "3.9.12"
  },
  "orig_nbformat": 4,
  "vscode": {
   "interpreter": {
    "hash": "9d7145ac079ffe9d15656a1e08230b2cbcf4be7a60af871e5b934c424fa38166"
   }
  }
 },
 "nbformat": 4,
 "nbformat_minor": 2
}
