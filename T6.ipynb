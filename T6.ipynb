{
 "cells": [
  {
   "cell_type": "markdown",
   "metadata": {},
   "source": [
    "1. Write a program in Python to find out the character in a string which is uppercase using list comprehension.\n"
   ]
  },
  {
   "cell_type": "code",
   "execution_count": null,
   "metadata": {},
   "outputs": [],
   "source": [
    "print('''Ans of Q1\n",
    "#####################################################################################''')\n",
    "\n",
    "a = input(\"Enter a string: \")\n",
    "\n",
    "UpperCaseChar = [i for i in a if i.isupper()]\n",
    "print(UpperCaseChar)\n"
   ]
  },
  {
   "cell_type": "markdown",
   "metadata": {},
   "source": [
    "2. Write a program to construct a dictionary from the two lists containing the names of students and their corresponding subjects. The dictionary should map the students with their respective subjects. Let’s see how to do this using for loops and dictionary comprehension.\n",
    "\n",
    "HINT - Use Zip function also\n",
    "\n",
    "Sample input: students = ['Smit', 'Jaya', 'Rayyan'] subjects = ['CSE', 'Networking', 'Operating System']\n",
    "\n",
    "Expected output: {‘Smit’ : ’CSE’ , ’Jaya’ : ’Networking’ , ’Rayyan’ : ’Operating System’}\n"
   ]
  },
  {
   "cell_type": "code",
   "execution_count": null,
   "metadata": {},
   "outputs": [],
   "source": [
    "print(\"\")\n",
    "print('''Ans of Q2\n",
    "#####################################################################################''')\n",
    "\n",
    "studentName = ['Smit', 'Jaya', 'Rayyan']\n",
    "subjectName = ['CSE', 'Networking', 'Operating System']\n",
    "a = list(zip(studentName,subjectName))\n",
    "\n",
    "student = {}\n",
    "for i in a:\n",
    "    # student.update({i[0] : i[1]})\n",
    "    student[i[0]] = i[1]\n",
    "\n",
    "print(student)\n"
   ]
  },
  {
   "cell_type": "markdown",
   "metadata": {},
   "source": [
    "4. Write a program in Python using generators to reverse the string.\n",
    "Input String = “Consultadd Training”"
   ]
  },
  {
   "cell_type": "code",
   "execution_count": null,
   "metadata": {},
   "outputs": [],
   "source": [
    "print(\"\")\n",
    "print('''Ans of Q4\n",
    "#####################################################################################''')\n",
    "\n",
    "def revStr(a):\n",
    "    for ch in a:\n",
    "        yield ch\n",
    "\n",
    "inStr = input(\"Input String = \")\n",
    "# next() calling evry iterable \n",
    "# z = revStr(inStr)\n",
    "# outst = \"\"\n",
    "# for i in range(len(inStr)):\n",
    "#     outst = next(z) + outst\n",
    "# print(outst)\n",
    "\n",
    "# Using Genrator in loop\n",
    "outStr = \"\"\n",
    "for i in revStr(inStr):\n",
    "    outStr = i + outStr\n",
    "print(outStr)"
   ]
  },
  {
   "cell_type": "markdown",
   "metadata": {},
   "source": [
    "\n",
    "5. Write an example on decorators.\n"
   ]
  },
  {
   "cell_type": "code",
   "execution_count": null,
   "metadata": {},
   "outputs": [],
   "source": [
    "print(\"\")\n",
    "print('''Ans of Q5\n",
    "#####################################################################################''')\n",
    "\n",
    "def HeaderFooter(func):\n",
    "    def inner(x,y):\n",
    "        print()\n",
    "        print (\"This is the Header\")\n",
    "        print()\n",
    "\n",
    "        func(x,y)\n",
    "        \n",
    "        print()\n",
    "        print(\"This is the footer\")\n",
    "        print()\n",
    "    return inner\n",
    "\n",
    "@HeaderFooter\n",
    "def fullName(a,b):\n",
    "    print((a + \" \" + b).upper())\n",
    "\n",
    "a = input(\"Enter your first Name: \")\n",
    "b = input(\"Enter your Last Name: \")\n",
    "fullName(a,b)"
   ]
  }
 ],
 "metadata": {
  "kernelspec": {
   "display_name": "Python 3.9.12 ('base')",
   "language": "python",
   "name": "python3"
  },
  "language_info": {
   "name": "python",
   "version": "3.9.12"
  },
  "orig_nbformat": 4,
  "vscode": {
   "interpreter": {
    "hash": "9d7145ac079ffe9d15656a1e08230b2cbcf4be7a60af871e5b934c424fa38166"
   }
  }
 },
 "nbformat": 4,
 "nbformat_minor": 2
}
